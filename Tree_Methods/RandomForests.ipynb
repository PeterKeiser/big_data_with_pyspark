{
 "cells": [
  {
   "cell_type": "code",
   "execution_count": 1,
   "id": "0492796b",
   "metadata": {},
   "outputs": [],
   "source": [
    "from pyspark.sql import SparkSession"
   ]
  },
  {
   "cell_type": "code",
   "execution_count": 2,
   "id": "96f3f926",
   "metadata": {},
   "outputs": [
    {
     "name": "stderr",
     "output_type": "stream",
     "text": [
      "WARNING: An illegal reflective access operation has occurred\n",
      "WARNING: Illegal reflective access by org.apache.spark.unsafe.Platform (file:/home/ubuntu/.local/lib/python3.8/site-packages/pyspark/jars/spark-unsafe_2.12-3.2.1.jar) to constructor java.nio.DirectByteBuffer(long,int)\n",
      "WARNING: Please consider reporting this to the maintainers of org.apache.spark.unsafe.Platform\n",
      "WARNING: Use --illegal-access=warn to enable warnings of further illegal reflective access operations\n",
      "WARNING: All illegal access operations will be denied in a future release\n",
      "Using Spark's default log4j profile: org/apache/spark/log4j-defaults.properties\n",
      "Setting default log level to \"WARN\".\n",
      "To adjust logging level use sc.setLogLevel(newLevel). For SparkR, use setLogLevel(newLevel).\n",
      "22/04/26 20:22:25 WARN NativeCodeLoader: Unable to load native-hadoop library for your platform... using builtin-java classes where applicable\n"
     ]
    }
   ],
   "source": [
    "spark = SparkSession.builder.appName(\"mytree\").getOrCreate()"
   ]
  },
  {
   "cell_type": "code",
   "execution_count": 3,
   "id": "bf28bfda",
   "metadata": {},
   "outputs": [],
   "source": [
    "from pyspark.ml import Pipeline"
   ]
  },
  {
   "cell_type": "code",
   "execution_count": 4,
   "id": "5aad31b8",
   "metadata": {},
   "outputs": [],
   "source": [
    "from pyspark.ml.classification import RandomForestClassifier, GBTClassifier, DecisionTreeClassifier"
   ]
  },
  {
   "cell_type": "code",
   "execution_count": 5,
   "id": "3b633e14",
   "metadata": {},
   "outputs": [
    {
     "name": "stderr",
     "output_type": "stream",
     "text": [
      "22/04/26 20:27:13 WARN LibSVMFileFormat: 'numFeatures' option not specified, determining the number of features by going though the input. If you know the number in advance, please specify it via 'numFeatures' option to avoid the extra scan.\n",
      "                                                                                \r"
     ]
    }
   ],
   "source": [
    "data = spark.read.format(\"libsvm\").load(\"sample_libsvm_data.txt\")"
   ]
  },
  {
   "cell_type": "code",
   "execution_count": 6,
   "id": "858f94e4",
   "metadata": {},
   "outputs": [
    {
     "name": "stdout",
     "output_type": "stream",
     "text": [
      "+-----+--------------------+\n",
      "|label|            features|\n",
      "+-----+--------------------+\n",
      "|  0.0|(692,[127,128,129...|\n",
      "|  1.0|(692,[158,159,160...|\n",
      "|  1.0|(692,[124,125,126...|\n",
      "|  1.0|(692,[152,153,154...|\n",
      "|  1.0|(692,[151,152,153...|\n",
      "|  0.0|(692,[129,130,131...|\n",
      "|  1.0|(692,[158,159,160...|\n",
      "|  1.0|(692,[99,100,101,...|\n",
      "|  0.0|(692,[154,155,156...|\n",
      "|  0.0|(692,[127,128,129...|\n",
      "|  1.0|(692,[154,155,156...|\n",
      "|  0.0|(692,[153,154,155...|\n",
      "|  0.0|(692,[151,152,153...|\n",
      "|  1.0|(692,[129,130,131...|\n",
      "|  0.0|(692,[154,155,156...|\n",
      "|  1.0|(692,[150,151,152...|\n",
      "|  0.0|(692,[124,125,126...|\n",
      "|  0.0|(692,[152,153,154...|\n",
      "|  1.0|(692,[97,98,99,12...|\n",
      "|  1.0|(692,[124,125,126...|\n",
      "+-----+--------------------+\n",
      "only showing top 20 rows\n",
      "\n"
     ]
    }
   ],
   "source": [
    "data.show()"
   ]
  },
  {
   "cell_type": "code",
   "execution_count": 7,
   "id": "0056cc2b",
   "metadata": {},
   "outputs": [],
   "source": [
    "train_data, test_data = data.randomSplit([0.7, 0.3])"
   ]
  },
  {
   "cell_type": "code",
   "execution_count": 9,
   "id": "6146c83c",
   "metadata": {},
   "outputs": [],
   "source": [
    "dtc = DecisionTreeClassifier()\n",
    "rfc = RandomForestClassifier(numTrees = 100)\n",
    "gbt = GBTClassifier()"
   ]
  },
  {
   "cell_type": "code",
   "execution_count": 11,
   "id": "16dd83a3",
   "metadata": {},
   "outputs": [],
   "source": [
    "dtc_model = dtc.fit(train_data)\n",
    "rfc_model = rfc.fit(train_data)\n",
    "gbt_model = gbt.fit(train_data)"
   ]
  },
  {
   "cell_type": "code",
   "execution_count": 12,
   "id": "17d96b38",
   "metadata": {},
   "outputs": [],
   "source": [
    "dtc_preds = dtc_model.transform(test_data)"
   ]
  },
  {
   "cell_type": "code",
   "execution_count": 13,
   "id": "e8936785",
   "metadata": {},
   "outputs": [],
   "source": [
    "rfc_preds = rfc_model.transform(test_data) "
   ]
  },
  {
   "cell_type": "code",
   "execution_count": 14,
   "id": "d82a13ca",
   "metadata": {},
   "outputs": [],
   "source": [
    "gbt_preds = gbt_model.transform(test_data)"
   ]
  },
  {
   "cell_type": "code",
   "execution_count": 15,
   "id": "02263566",
   "metadata": {},
   "outputs": [
    {
     "name": "stdout",
     "output_type": "stream",
     "text": [
      "+-----+--------------------+-------------+-----------+----------+\n",
      "|label|            features|rawPrediction|probability|prediction|\n",
      "+-----+--------------------+-------------+-----------+----------+\n",
      "|  0.0|(692,[122,123,124...|   [24.0,0.0]|  [1.0,0.0]|       0.0|\n",
      "|  0.0|(692,[122,123,148...|   [24.0,0.0]|  [1.0,0.0]|       0.0|\n",
      "|  0.0|(692,[123,124,125...|   [24.0,0.0]|  [1.0,0.0]|       0.0|\n",
      "|  0.0|(692,[123,124,125...|   [24.0,0.0]|  [1.0,0.0]|       0.0|\n",
      "|  0.0|(692,[124,125,126...|   [24.0,0.0]|  [1.0,0.0]|       0.0|\n",
      "|  0.0|(692,[124,125,126...|   [24.0,0.0]|  [1.0,0.0]|       0.0|\n",
      "|  0.0|(692,[126,127,128...|   [24.0,0.0]|  [1.0,0.0]|       0.0|\n",
      "|  0.0|(692,[126,127,128...|   [24.0,0.0]|  [1.0,0.0]|       0.0|\n",
      "|  0.0|(692,[126,127,128...|   [24.0,0.0]|  [1.0,0.0]|       0.0|\n",
      "|  0.0|(692,[127,128,129...|   [24.0,0.0]|  [1.0,0.0]|       0.0|\n",
      "|  0.0|(692,[128,129,130...|   [24.0,0.0]|  [1.0,0.0]|       0.0|\n",
      "|  0.0|(692,[150,151,152...|   [24.0,0.0]|  [1.0,0.0]|       0.0|\n",
      "|  0.0|(692,[153,154,155...|   [24.0,0.0]|  [1.0,0.0]|       0.0|\n",
      "|  0.0|(692,[153,154,155...|   [24.0,0.0]|  [1.0,0.0]|       0.0|\n",
      "|  0.0|(692,[153,154,155...|   [24.0,0.0]|  [1.0,0.0]|       0.0|\n",
      "|  0.0|(692,[154,155,156...|   [0.0,43.0]|  [0.0,1.0]|       1.0|\n",
      "|  0.0|(692,[154,155,156...|   [0.0,43.0]|  [0.0,1.0]|       1.0|\n",
      "|  0.0|(692,[181,182,183...|   [24.0,0.0]|  [1.0,0.0]|       0.0|\n",
      "|  0.0|(692,[234,235,237...|   [24.0,0.0]|  [1.0,0.0]|       0.0|\n",
      "|  1.0|(692,[119,120,121...|   [0.0,43.0]|  [0.0,1.0]|       1.0|\n",
      "+-----+--------------------+-------------+-----------+----------+\n",
      "only showing top 20 rows\n",
      "\n"
     ]
    }
   ],
   "source": [
    "dtc_preds.show()"
   ]
  },
  {
   "cell_type": "code",
   "execution_count": 16,
   "id": "bab9255e",
   "metadata": {},
   "outputs": [
    {
     "name": "stdout",
     "output_type": "stream",
     "text": [
      "+-----+--------------------+-------------+-----------+----------+\n",
      "|label|            features|rawPrediction|probability|prediction|\n",
      "+-----+--------------------+-------------+-----------+----------+\n",
      "|  0.0|(692,[122,123,124...|   [98.0,2.0]|[0.98,0.02]|       0.0|\n",
      "|  0.0|(692,[122,123,148...|  [73.0,27.0]|[0.73,0.27]|       0.0|\n",
      "|  0.0|(692,[123,124,125...|  [100.0,0.0]|  [1.0,0.0]|       0.0|\n",
      "|  0.0|(692,[123,124,125...|  [88.0,12.0]|[0.88,0.12]|       0.0|\n",
      "|  0.0|(692,[124,125,126...|  [69.0,31.0]|[0.69,0.31]|       0.0|\n",
      "|  0.0|(692,[124,125,126...|   [93.0,7.0]|[0.93,0.07]|       0.0|\n",
      "|  0.0|(692,[126,127,128...|   [92.0,8.0]|[0.92,0.08]|       0.0|\n",
      "|  0.0|(692,[126,127,128...|   [97.0,3.0]|[0.97,0.03]|       0.0|\n",
      "|  0.0|(692,[126,127,128...|   [97.0,3.0]|[0.97,0.03]|       0.0|\n",
      "|  0.0|(692,[127,128,129...|   [93.0,7.0]|[0.93,0.07]|       0.0|\n",
      "|  0.0|(692,[128,129,130...|   [94.0,6.0]|[0.94,0.06]|       0.0|\n",
      "|  0.0|(692,[150,151,152...|  [87.0,13.0]|[0.87,0.13]|       0.0|\n",
      "|  0.0|(692,[153,154,155...|   [96.0,4.0]|[0.96,0.04]|       0.0|\n",
      "|  0.0|(692,[153,154,155...|   [97.0,3.0]|[0.97,0.03]|       0.0|\n",
      "|  0.0|(692,[153,154,155...|  [58.0,42.0]|[0.58,0.42]|       0.0|\n",
      "|  0.0|(692,[154,155,156...|  [74.0,26.0]|[0.74,0.26]|       0.0|\n",
      "|  0.0|(692,[154,155,156...|  [80.0,20.0]|  [0.8,0.2]|       0.0|\n",
      "|  0.0|(692,[181,182,183...|  [79.0,21.0]|[0.79,0.21]|       0.0|\n",
      "|  0.0|(692,[234,235,237...|  [66.0,34.0]|[0.66,0.34]|       0.0|\n",
      "|  1.0|(692,[119,120,121...|  [24.0,76.0]|[0.24,0.76]|       1.0|\n",
      "+-----+--------------------+-------------+-----------+----------+\n",
      "only showing top 20 rows\n",
      "\n"
     ]
    }
   ],
   "source": [
    "rfc_preds.show()"
   ]
  },
  {
   "cell_type": "code",
   "execution_count": 17,
   "id": "9526ef1d",
   "metadata": {},
   "outputs": [
    {
     "name": "stdout",
     "output_type": "stream",
     "text": [
      "+-----+--------------------+--------------------+--------------------+----------+\n",
      "|label|            features|       rawPrediction|         probability|prediction|\n",
      "+-----+--------------------+--------------------+--------------------+----------+\n",
      "|  0.0|(692,[122,123,124...|[1.54350200272498...|[0.95635347857270...|       0.0|\n",
      "|  0.0|(692,[122,123,148...|[1.54350200272498...|[0.95635347857270...|       0.0|\n",
      "|  0.0|(692,[123,124,125...|[1.54350200272498...|[0.95635347857270...|       0.0|\n",
      "|  0.0|(692,[123,124,125...|[1.54350200272498...|[0.95635347857270...|       0.0|\n",
      "|  0.0|(692,[124,125,126...|[1.54350200272498...|[0.95635347857270...|       0.0|\n",
      "|  0.0|(692,[124,125,126...|[1.54350200272498...|[0.95635347857270...|       0.0|\n",
      "|  0.0|(692,[126,127,128...|[1.54350200272498...|[0.95635347857270...|       0.0|\n",
      "|  0.0|(692,[126,127,128...|[1.54350200272498...|[0.95635347857270...|       0.0|\n",
      "|  0.0|(692,[126,127,128...|[1.54350200272498...|[0.95635347857270...|       0.0|\n",
      "|  0.0|(692,[127,128,129...|[1.54350200272498...|[0.95635347857270...|       0.0|\n",
      "|  0.0|(692,[128,129,130...|[1.54350200272498...|[0.95635347857270...|       0.0|\n",
      "|  0.0|(692,[150,151,152...|[1.54350200272498...|[0.95635347857270...|       0.0|\n",
      "|  0.0|(692,[153,154,155...|[1.54350200272498...|[0.95635347857270...|       0.0|\n",
      "|  0.0|(692,[153,154,155...|[1.54350200272498...|[0.95635347857270...|       0.0|\n",
      "|  0.0|(692,[153,154,155...|[1.54350200272498...|[0.95635347857270...|       0.0|\n",
      "|  0.0|(692,[154,155,156...|[-1.5435020027249...|[0.04364652142729...|       1.0|\n",
      "|  0.0|(692,[154,155,156...|[-1.5435020027249...|[0.04364652142729...|       1.0|\n",
      "|  0.0|(692,[181,182,183...|[1.54350200272498...|[0.95635347857270...|       0.0|\n",
      "|  0.0|(692,[234,235,237...|[1.54350200272498...|[0.95635347857270...|       0.0|\n",
      "|  1.0|(692,[119,120,121...|[-1.5435020027249...|[0.04364652142729...|       1.0|\n",
      "+-----+--------------------+--------------------+--------------------+----------+\n",
      "only showing top 20 rows\n",
      "\n"
     ]
    },
    {
     "name": "stderr",
     "output_type": "stream",
     "text": [
      "22/04/26 20:38:31 WARN InstanceBuilder$NativeBLAS: Failed to load implementation from:dev.ludovic.netlib.blas.JNIBLAS\n",
      "22/04/26 20:38:31 WARN InstanceBuilder$NativeBLAS: Failed to load implementation from:dev.ludovic.netlib.blas.ForeignLinkerBLAS\n"
     ]
    }
   ],
   "source": [
    "gbt_preds.show()"
   ]
  },
  {
   "cell_type": "code",
   "execution_count": 18,
   "id": "5b4fd715",
   "metadata": {},
   "outputs": [],
   "source": [
    "from pyspark.ml.evaluation import MulticlassClassificationEvaluator"
   ]
  },
  {
   "cell_type": "code",
   "execution_count": 19,
   "id": "923212e9",
   "metadata": {},
   "outputs": [],
   "source": [
    "acc_eval = MulticlassClassificationEvaluator(metricName = \"accuracy\")"
   ]
  },
  {
   "cell_type": "code",
   "execution_count": 20,
   "id": "314cee9c",
   "metadata": {},
   "outputs": [
    {
     "name": "stdout",
     "output_type": "stream",
     "text": [
      "DTC ACCURACY:\n"
     ]
    },
    {
     "data": {
      "text/plain": [
       "0.9393939393939394"
      ]
     },
     "execution_count": 20,
     "metadata": {},
     "output_type": "execute_result"
    }
   ],
   "source": [
    "print(\"DTC ACCURACY:\")\n",
    "acc_eval.evaluate(dtc_preds)"
   ]
  },
  {
   "cell_type": "code",
   "execution_count": 21,
   "id": "d598a2dc",
   "metadata": {},
   "outputs": [
    {
     "name": "stdout",
     "output_type": "stream",
     "text": [
      "RFC ACCURACY:\n"
     ]
    },
    {
     "data": {
      "text/plain": [
       "1.0"
      ]
     },
     "execution_count": 21,
     "metadata": {},
     "output_type": "execute_result"
    }
   ],
   "source": [
    "print(\"RFC ACCURACY:\")\n",
    "acc_eval.evaluate(rfc_preds)"
   ]
  },
  {
   "cell_type": "code",
   "execution_count": 22,
   "id": "0e3eca60",
   "metadata": {},
   "outputs": [
    {
     "name": "stdout",
     "output_type": "stream",
     "text": [
      "GBT ACCURACY:\n"
     ]
    },
    {
     "data": {
      "text/plain": [
       "0.9393939393939394"
      ]
     },
     "execution_count": 22,
     "metadata": {},
     "output_type": "execute_result"
    }
   ],
   "source": [
    "print(\"GBT ACCURACY:\")\n",
    "acc_eval.evaluate(gbt_preds)"
   ]
  },
  {
   "cell_type": "code",
   "execution_count": 23,
   "id": "941677a6",
   "metadata": {},
   "outputs": [
    {
     "data": {
      "text/plain": [
       "SparseVector(692, {100: 0.0016, 102: 0.0003, 155: 0.0006, 182: 0.0006, 183: 0.0002, 185: 0.0023, 213: 0.0024, 214: 0.0055, 215: 0.0076, 216: 0.0011, 217: 0.0005, 233: 0.0006, 235: 0.0007, 243: 0.0023, 244: 0.0079, 260: 0.0007, 262: 0.0101, 263: 0.0008, 267: 0.0055, 272: 0.0089, 287: 0.0039, 288: 0.0054, 289: 0.0087, 290: 0.0175, 295: 0.0007, 296: 0.0014, 299: 0.0016, 301: 0.0054, 317: 0.0093, 318: 0.001, 319: 0.0016, 322: 0.0043, 323: 0.0069, 328: 0.016, 330: 0.0063, 346: 0.0052, 350: 0.0123, 351: 0.0184, 352: 0.0007, 356: 0.0263, 357: 0.0242, 369: 0.0014, 373: 0.0112, 374: 0.0012, 375: 0.004, 378: 0.0017, 379: 0.0006, 380: 0.0051, 383: 0.0012, 384: 0.0001, 385: 0.0368, 398: 0.0007, 400: 0.0259, 402: 0.0006, 405: 0.0391, 406: 0.0319, 407: 0.0356, 410: 0.0007, 411: 0.0014, 413: 0.034, 414: 0.0064, 428: 0.0281, 429: 0.0036, 432: 0.0005, 433: 0.0091, 434: 0.0096, 435: 0.0075, 438: 0.0022, 439: 0.0121, 440: 0.0024, 441: 0.0233, 452: 0.0005, 454: 0.0059, 455: 0.0087, 456: 0.008, 457: 0.011, 461: 0.0188, 462: 0.0204, 463: 0.0095, 465: 0.0005, 466: 0.0018, 468: 0.0176, 469: 0.0198, 470: 0.0014, 482: 0.0033, 483: 0.01, 484: 0.0086, 485: 0.0026, 486: 0.0011, 488: 0.003, 489: 0.0326, 490: 0.0403, 494: 0.005, 497: 0.0008, 511: 0.0446, 512: 0.0157, 514: 0.0007, 516: 0.0001, 517: 0.0373, 518: 0.0009, 520: 0.0003, 521: 0.0003, 523: 0.0087, 524: 0.0083, 525: 0.0014, 528: 0.0012, 540: 0.0187, 541: 0.0054, 545: 0.0003, 550: 0.0007, 551: 0.0011, 552: 0.0093, 567: 0.0025, 568: 0.0177, 574: 0.0004, 577: 0.0005, 594: 0.0017, 596: 0.0013, 599: 0.0007, 601: 0.0013, 605: 0.0076, 606: 0.0011, 626: 0.0007, 629: 0.0001, 631: 0.0004, 632: 0.0008, 634: 0.001, 687: 0.0006})"
      ]
     },
     "execution_count": 23,
     "metadata": {},
     "output_type": "execute_result"
    }
   ],
   "source": [
    "rfc_model.featureImportances"
   ]
  },
  {
   "cell_type": "code",
   "execution_count": null,
   "id": "a3166987",
   "metadata": {},
   "outputs": [],
   "source": []
  }
 ],
 "metadata": {
  "kernelspec": {
   "display_name": "Python 3 (ipykernel)",
   "language": "python",
   "name": "python3"
  },
  "language_info": {
   "codemirror_mode": {
    "name": "ipython",
    "version": 3
   },
   "file_extension": ".py",
   "mimetype": "text/x-python",
   "name": "python",
   "nbconvert_exporter": "python",
   "pygments_lexer": "ipython3",
   "version": "3.8.10"
  }
 },
 "nbformat": 4,
 "nbformat_minor": 5
}
