{
 "cells": [
  {
   "cell_type": "code",
   "execution_count": 3,
   "id": "47961914",
   "metadata": {},
   "outputs": [
    {
     "ename": "ModuleNotFoundError",
     "evalue": "No module named 'pyspark'",
     "output_type": "error",
     "traceback": [
      "\u001b[0;31m---------------------------------------------------------------------------\u001b[0m",
      "\u001b[0;31mModuleNotFoundError\u001b[0m                       Traceback (most recent call last)",
      "Input \u001b[0;32mIn [3]\u001b[0m, in \u001b[0;36m<cell line: 1>\u001b[0;34m()\u001b[0m\n\u001b[0;32m----> 1\u001b[0m \u001b[38;5;28;01mfrom\u001b[39;00m \u001b[38;5;21;01mpyspark\u001b[39;00m\u001b[38;5;21;01m.\u001b[39;00m\u001b[38;5;21;01msql\u001b[39;00m \u001b[38;5;28;01mimport\u001b[39;00m SparkSession\n",
      "\u001b[0;31mModuleNotFoundError\u001b[0m: No module named 'pyspark'"
     ]
    }
   ],
   "source": [
    "from pyspark.sql import SparkSession"
   ]
  },
  {
   "cell_type": "code",
   "execution_count": 11,
   "id": "d7df1513",
   "metadata": {},
   "outputs": [
    {
     "ename": "NameError",
     "evalue": "name 'SparkSession' is not defined",
     "output_type": "error",
     "traceback": [
      "\u001b[0;31m---------------------------------------------------------------------------\u001b[0m",
      "\u001b[0;31mNameError\u001b[0m                                 Traceback (most recent call last)",
      "Input \u001b[0;32mIn [11]\u001b[0m, in \u001b[0;36m<cell line: 1>\u001b[0;34m()\u001b[0m\n\u001b[0;32m----> 1\u001b[0m spark \u001b[38;5;241m=\u001b[39m \u001b[43mSparkSession\u001b[49m\u001b[38;5;241m.\u001b[39mbuilder\u001b[38;5;241m.\u001b[39mappName(\u001b[38;5;124m\"\u001b[39m\u001b[38;5;124mBasics\u001b[39m\u001b[38;5;124m\"\u001b[39m)\u001b[38;5;241m.\u001b[39mgetOrCreate()\n",
      "\u001b[0;31mNameError\u001b[0m: name 'SparkSession' is not defined"
     ]
    }
   ],
   "source": [
    "spark = SparkSession.builder.appName(\"Basics\").getOrCreate()"
   ]
  },
  {
   "cell_type": "code",
   "execution_count": 8,
   "id": "1abd69ba",
   "metadata": {},
   "outputs": [
    {
     "name": "stdout",
     "output_type": "stream",
     "text": [
      "Collecting pyspark\n",
      "  Downloading pyspark-3.2.1.tar.gz (281.4 MB)\n",
      "\u001b[K     |████████████████████████████████| 281.4 MB 33.9 MB/s eta 0:00:01   |▋                               | 5.5 MB 24.8 MB/s eta 0:00:12     |▉                               | 7.4 MB 24.8 MB/s eta 0:00:12     |██                              | 17.3 MB 24.8 MB/s eta 0:00:11     |██▋                             | 23.0 MB 24.8 MB/s eta 0:00:11     |████▏                           | 36.8 MB 24.8 MB/s eta 0:00:10     |█████▏                          | 45.6 MB 17.2 MB/s eta 0:00:14     |█████▍                          | 47.6 MB 17.2 MB/s eta 0:00:14     |██████▊                         | 58.9 MB 17.2 MB/s eta 0:00:13     |████████▉                       | 77.4 MB 37.8 MB/s eta 0:00:06     |██████████▏                     | 89.8 MB 37.8 MB/s eta 0:00:06     |██████████▍                     | 91.6 MB 37.8 MB/s eta 0:00:06     |███████████▏                    | 98.5 MB 37.8 MB/s eta 0:00:05     |████████████                    | 105.8 MB 41.5 MB/s eta 0:00:05     |████████████▎                   | 107.6 MB 41.5 MB/s eta 0:00:05     |████████████▌                   | 109.4 MB 41.5 MB/s eta 0:00:05     |█████████████▍                  | 118.1 MB 41.5 MB/s eta 0:00:04     |██████████████▎                 | 125.2 MB 41.5 MB/s eta 0:00:04     |███████████████                 | 132.0 MB 41.5 MB/s eta 0:00:04     |████████████████▏               | 142.4 MB 38.7 MB/s eta 0:00:04     |████████████████▋               | 145.9 MB 38.7 MB/s eta 0:00:04     |█████████████████▏              | 150.6 MB 38.7 MB/s eta 0:00:04     |█████████████████▌              | 153.7 MB 38.7 MB/s eta 0:00:04     |█████████████████▉              | 156.8 MB 38.7 MB/s eta 0:00:04     |███████████████████▎            | 169.7 MB 43.0 MB/s eta 0:00:03     |████████████████████            | 175.7 MB 43.0 MB/s eta 0:00:03     |████████████████████▌           | 180.6 MB 43.0 MB/s eta 0:00:03     |████████████████████▊           | 182.3 MB 43.0 MB/s eta 0:00:03     |█████████████████████▉          | 191.9 MB 43.0 MB/s eta 0:00:03     |██████████████████████▌         | 198.2 MB 26.3 MB/s eta 0:00:04     |███████████████████████▌        | 206.2 MB 26.3 MB/s eta 0:00:03     |███████████████████████▉        | 209.4 MB 26.3 MB/s eta 0:00:03     |█████████████████████████       | 219.0 MB 26.3 MB/s eta 0:00:03     |█████████████████████████▉      | 227.3 MB 26.3 MB/s eta 0:00:03     |██████████████████████████      | 228.7 MB 34.8 MB/s eta 0:00:02     |██████████████████████████▍     | 232.0 MB 34.8 MB/s eta 0:00:02     |██████████████████████████▋     | 233.7 MB 34.8 MB/s eta 0:00:02     |██████████████████████████▊     | 235.3 MB 34.8 MB/s eta 0:00:02     |███████████████████████████▋    | 242.6 MB 34.8 MB/s eta 0:00:02     |███████████████████████████▊    | 243.9 MB 34.8 MB/s eta 0:00:02     |████████████████████████████▉   | 253.3 MB 34.8 MB/s eta 0:00:01     |█████████████████████████████▉  | 262.0 MB 33.9 MB/s eta 0:00:01     |██████████████████████████████▍ | 266.9 MB 33.9 MB/s eta 0:00:01"
     ]
    }
   ],
   "source": [
    "! pip install pyspark"
   ]
  },
  {
   "cell_type": "code",
   "execution_count": 2,
   "id": "5e540641",
   "metadata": {},
   "outputs": [
    {
     "name": "stdout",
     "output_type": "stream",
     "text": [
      "Collecting pyspark\n",
      "  Downloading pyspark-3.2.1.tar.gz (281.4 MB)\n",
      "\u001b[K     |████████████████████████████████| 281.4 MB 30.6 MB/s eta 0:00:01   |▋                               | 4.9 MB 21.2 MB/s eta 0:00:14     |█▎                              | 10.9 MB 21.2 MB/s eta 0:00:13     |██▍                             | 20.7 MB 21.2 MB/s eta 0:00:13     |██▉                             | 24.7 MB 21.2 MB/s eta 0:00:13     |███▎                            | 28.7 MB 21.2 MB/s eta 0:00:12     |████                            | 34.8 MB 21.2 MB/s eta 0:00:12     |████▏                           | 36.8 MB 21.2 MB/s eta 0:00:12     |█████                           | 44.7 MB 38.0 MB/s eta 0:00:07     |█████▌                          | 48.7 MB 38.0 MB/s eta 0:00:07     |██████                          | 52.2 MB 38.0 MB/s eta 0:00:07     |██████▊                         | 59.0 MB 38.0 MB/s eta 0:00:06     |███████                         | 60.9 MB 38.0 MB/s eta 0:00:06     |████████▌                       | 74.3 MB 32.9 MB/s eta 0:00:07     |██████████▊                     | 94.5 MB 32.9 MB/s eta 0:00:06     |███████████▏                    | 97.8 MB 32.9 MB/s eta 0:00:06     |████████████▋                   | 110.9 MB 11.2 MB/s eta 0:00:16     |█████████████▏                  | 115.8 MB 11.2 MB/s eta 0:00:15     |█████████████▊                  | 120.6 MB 11.2 MB/s eta 0:00:15     |██████████████                  | 122.3 MB 11.2 MB/s eta 0:00:15     |███████████████▌                | 135.9 MB 39.3 MB/s eta 0:00:04     |████████████████                | 140.8 MB 39.3 MB/s eta 0:00:04     |█████████████████               | 149.5 MB 39.3 MB/s eta 0:00:04     |██████████████████▎             | 160.2 MB 39.3 MB/s eta 0:00:04     |██████████████████▌             | 163.1 MB 39.3 MB/s eta 0:00:04     |██████████████████▊             | 164.9 MB 39.3 MB/s eta 0:00:03     |███████████████████             | 166.9 MB 39.3 MB/s eta 0:00:03     |███████████████████▍            | 170.7 MB 39.4 MB/s eta 0:00:03     |████████████████████▌           | 180.1 MB 39.4 MB/s eta 0:00:03     |██████████████████████▋         | 198.4 MB 39.4 MB/s eta 0:00:03     |███████████████████████▉        | 209.2 MB 43.9 MB/s eta 0:00:02     |████████████████████████        | 210.7 MB 43.9 MB/s eta 0:00:02     |████████████████████████▍       | 214.3 MB 43.9 MB/s eta 0:00:02     |████████████████████████▉       | 217.9 MB 43.9 MB/s eta 0:00:02     |█████████████████████████▊      | 225.8 MB 43.9 MB/s eta 0:00:02     |█████████████████████████▉      | 227.4 MB 43.9 MB/s eta 0:00:02     |███████████████████████████     | 237.0 MB 17.0 MB/s eta 0:00:03     |████████████████████████████▌   | 250.4 MB 17.0 MB/s eta 0:00:02     |█████████████████████████████   | 255.5 MB 17.0 MB/s eta 0:00:02     |██████████████████████████████  | 263.5 MB 30.6 MB/s eta 0:00:01     |███████████████████████████████▎| 275.4 MB 30.6 MB/s eta 0:00:01     |███████████████████████████████▌| 276.8 MB 30.6 MB/s eta 0:00:01"
     ]
    }
   ],
   "source": [
    "! pip install pyspark"
   ]
  },
  {
   "cell_type": "code",
   "execution_count": 5,
   "id": "8f223bd4",
   "metadata": {},
   "outputs": [
    {
     "ename": "NameError",
     "evalue": "name 'python' is not defined",
     "output_type": "error",
     "traceback": [
      "\u001b[0;31m---------------------------------------------------------------------------\u001b[0m",
      "\u001b[0;31mNameError\u001b[0m                                 Traceback (most recent call last)",
      "Input \u001b[0;32mIn [5]\u001b[0m, in \u001b[0;36m<cell line: 1>\u001b[0;34m()\u001b[0m\n\u001b[0;32m----> 1\u001b[0m \u001b[43mpython\u001b[49m\n",
      "\u001b[0;31mNameError\u001b[0m: name 'python' is not defined"
     ]
    }
   ],
   "source": [
    "python"
   ]
  },
  {
   "cell_type": "code",
   "execution_count": null,
   "id": "a47f3078",
   "metadata": {},
   "outputs": [],
   "source": []
  }
 ],
 "metadata": {
  "kernelspec": {
   "display_name": "Python 3 (ipykernel)",
   "language": "python",
   "name": "python3"
  },
  "language_info": {
   "codemirror_mode": {
    "name": "ipython",
    "version": 3
   },
   "file_extension": ".py",
   "mimetype": "text/x-python",
   "name": "python",
   "nbconvert_exporter": "python",
   "pygments_lexer": "ipython3",
   "version": "3.8.10"
  }
 },
 "nbformat": 4,
 "nbformat_minor": 5
}
