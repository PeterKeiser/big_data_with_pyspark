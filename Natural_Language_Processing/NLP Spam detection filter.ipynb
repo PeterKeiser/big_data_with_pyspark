{
 "cells": [
  {
   "cell_type": "code",
   "execution_count": 1,
   "id": "0ade508d",
   "metadata": {},
   "outputs": [],
   "source": [
    "from pyspark.sql import SparkSession"
   ]
  },
  {
   "cell_type": "code",
   "execution_count": 2,
   "id": "876ab2a8",
   "metadata": {},
   "outputs": [
    {
     "name": "stderr",
     "output_type": "stream",
     "text": [
      "WARNING: An illegal reflective access operation has occurred\n",
      "WARNING: Illegal reflective access by org.apache.spark.unsafe.Platform (file:/home/ubuntu/.local/lib/python3.8/site-packages/pyspark/jars/spark-unsafe_2.12-3.2.1.jar) to constructor java.nio.DirectByteBuffer(long,int)\n",
      "WARNING: Please consider reporting this to the maintainers of org.apache.spark.unsafe.Platform\n",
      "WARNING: Use --illegal-access=warn to enable warnings of further illegal reflective access operations\n",
      "WARNING: All illegal access operations will be denied in a future release\n",
      "Using Spark's default log4j profile: org/apache/spark/log4j-defaults.properties\n",
      "Setting default log level to \"WARN\".\n",
      "To adjust logging level use sc.setLogLevel(newLevel). For SparkR, use setLogLevel(newLevel).\n",
      "22/05/02 19:27:45 WARN NativeCodeLoader: Unable to load native-hadoop library for your platform... using builtin-java classes where applicable\n"
     ]
    }
   ],
   "source": [
    "spark = SparkSession.builder.appName(\"nlp\").getOrCreate()"
   ]
  },
  {
   "cell_type": "code",
   "execution_count": 3,
   "id": "7076ba0e",
   "metadata": {},
   "outputs": [
    {
     "name": "stderr",
     "output_type": "stream",
     "text": [
      "                                                                                \r"
     ]
    }
   ],
   "source": [
    "data = spark.read.csv(\"smsspamcollection/SMSSpamCollection\", inferSchema = True, sep = \"\\t\")"
   ]
  },
  {
   "cell_type": "code",
   "execution_count": 4,
   "id": "ecf22fde",
   "metadata": {},
   "outputs": [
    {
     "name": "stdout",
     "output_type": "stream",
     "text": [
      "+----+--------------------+\n",
      "| _c0|                 _c1|\n",
      "+----+--------------------+\n",
      "| ham|Go until jurong p...|\n",
      "| ham|Ok lar... Joking ...|\n",
      "|spam|Free entry in 2 a...|\n",
      "| ham|U dun say so earl...|\n",
      "| ham|Nah I don't think...|\n",
      "|spam|FreeMsg Hey there...|\n",
      "| ham|Even my brother i...|\n",
      "| ham|As per your reque...|\n",
      "|spam|WINNER!! As a val...|\n",
      "|spam|Had your mobile 1...|\n",
      "| ham|I'm gonna be home...|\n",
      "|spam|SIX chances to wi...|\n",
      "|spam|URGENT! You have ...|\n",
      "| ham|I've been searchi...|\n",
      "| ham|I HAVE A DATE ON ...|\n",
      "|spam|XXXMobileMovieClu...|\n",
      "| ham|Oh k...i'm watchi...|\n",
      "| ham|Eh u remember how...|\n",
      "| ham|Fine if thats th...|\n",
      "|spam|England v Macedon...|\n",
      "+----+--------------------+\n",
      "only showing top 20 rows\n",
      "\n"
     ]
    }
   ],
   "source": [
    "data.show()"
   ]
  },
  {
   "cell_type": "code",
   "execution_count": 5,
   "id": "8395a786",
   "metadata": {},
   "outputs": [],
   "source": [
    "data = data.withColumnRenamed(\"_c0\", \"class\").withColumnRenamed(\"_c1\", \"text\")"
   ]
  },
  {
   "cell_type": "code",
   "execution_count": 6,
   "id": "994f7197",
   "metadata": {},
   "outputs": [
    {
     "name": "stdout",
     "output_type": "stream",
     "text": [
      "+-----+--------------------+\n",
      "|class|                text|\n",
      "+-----+--------------------+\n",
      "|  ham|Go until jurong p...|\n",
      "|  ham|Ok lar... Joking ...|\n",
      "| spam|Free entry in 2 a...|\n",
      "|  ham|U dun say so earl...|\n",
      "|  ham|Nah I don't think...|\n",
      "| spam|FreeMsg Hey there...|\n",
      "|  ham|Even my brother i...|\n",
      "|  ham|As per your reque...|\n",
      "| spam|WINNER!! As a val...|\n",
      "| spam|Had your mobile 1...|\n",
      "|  ham|I'm gonna be home...|\n",
      "| spam|SIX chances to wi...|\n",
      "| spam|URGENT! You have ...|\n",
      "|  ham|I've been searchi...|\n",
      "|  ham|I HAVE A DATE ON ...|\n",
      "| spam|XXXMobileMovieClu...|\n",
      "|  ham|Oh k...i'm watchi...|\n",
      "|  ham|Eh u remember how...|\n",
      "|  ham|Fine if thats th...|\n",
      "| spam|England v Macedon...|\n",
      "+-----+--------------------+\n",
      "only showing top 20 rows\n",
      "\n"
     ]
    }
   ],
   "source": [
    "data.show()"
   ]
  },
  {
   "cell_type": "code",
   "execution_count": 7,
   "id": "54520606",
   "metadata": {},
   "outputs": [],
   "source": [
    "from pyspark.sql.functions import length"
   ]
  },
  {
   "cell_type": "code",
   "execution_count": 9,
   "id": "36714127",
   "metadata": {},
   "outputs": [],
   "source": [
    "data = data.withColumn(\"length\", length(data[\"text\"]))"
   ]
  },
  {
   "cell_type": "code",
   "execution_count": 10,
   "id": "5f79703c",
   "metadata": {},
   "outputs": [
    {
     "name": "stdout",
     "output_type": "stream",
     "text": [
      "+-----+--------------------+------+\n",
      "|class|                text|length|\n",
      "+-----+--------------------+------+\n",
      "|  ham|Go until jurong p...|   111|\n",
      "|  ham|Ok lar... Joking ...|    29|\n",
      "| spam|Free entry in 2 a...|   155|\n",
      "|  ham|U dun say so earl...|    49|\n",
      "|  ham|Nah I don't think...|    61|\n",
      "| spam|FreeMsg Hey there...|   147|\n",
      "|  ham|Even my brother i...|    77|\n",
      "|  ham|As per your reque...|   160|\n",
      "| spam|WINNER!! As a val...|   157|\n",
      "| spam|Had your mobile 1...|   154|\n",
      "|  ham|I'm gonna be home...|   109|\n",
      "| spam|SIX chances to wi...|   136|\n",
      "| spam|URGENT! You have ...|   155|\n",
      "|  ham|I've been searchi...|   196|\n",
      "|  ham|I HAVE A DATE ON ...|    35|\n",
      "| spam|XXXMobileMovieClu...|   149|\n",
      "|  ham|Oh k...i'm watchi...|    26|\n",
      "|  ham|Eh u remember how...|    81|\n",
      "|  ham|Fine if thats th...|    56|\n",
      "| spam|England v Macedon...|   155|\n",
      "+-----+--------------------+------+\n",
      "only showing top 20 rows\n",
      "\n"
     ]
    }
   ],
   "source": [
    "data.show()"
   ]
  },
  {
   "cell_type": "code",
   "execution_count": 11,
   "id": "f598664c",
   "metadata": {},
   "outputs": [
    {
     "name": "stderr",
     "output_type": "stream",
     "text": [
      "\r",
      "[Stage 5:>                                                          (0 + 1) / 1]\r"
     ]
    },
    {
     "name": "stdout",
     "output_type": "stream",
     "text": [
      "+-----+-----------------+\n",
      "|class|      avg(length)|\n",
      "+-----+-----------------+\n",
      "|  ham|71.45431945307645|\n",
      "| spam|138.6706827309237|\n",
      "+-----+-----------------+\n",
      "\n"
     ]
    },
    {
     "name": "stderr",
     "output_type": "stream",
     "text": [
      "\r",
      "                                                                                \r"
     ]
    }
   ],
   "source": [
    "data.groupBy(\"class\").mean().show()"
   ]
  },
  {
   "cell_type": "markdown",
   "id": "6bd9343e",
   "metadata": {},
   "source": [
    "## NLP features: tokenization, removing stop words, count vertorizer, inverse document frequency, string indexer"
   ]
  },
  {
   "cell_type": "code",
   "execution_count": 12,
   "id": "1cffe06e",
   "metadata": {},
   "outputs": [],
   "source": [
    "from pyspark.ml.feature import Tokenizer, StopWordsRemover, CountVectorizer, IDF, StringIndexer"
   ]
  },
  {
   "cell_type": "code",
   "execution_count": 13,
   "id": "558e84c8",
   "metadata": {},
   "outputs": [],
   "source": [
    "tokenizer = Tokenizer(inputCol = \"text\", outputCol = \"token_text\")"
   ]
  },
  {
   "cell_type": "code",
   "execution_count": 14,
   "id": "d171b54f",
   "metadata": {},
   "outputs": [],
   "source": [
    "stop_remove = StopWordsRemover(inputCol = \"token_text\", outputCol = \"stop_token\")"
   ]
  },
  {
   "cell_type": "code",
   "execution_count": 15,
   "id": "a776b648",
   "metadata": {},
   "outputs": [],
   "source": [
    "count_vec = CountVectorizer(inputCol = \"stop_token\", outputCol = \"c_vec\")"
   ]
  },
  {
   "cell_type": "markdown",
   "id": "81a306f2",
   "metadata": {},
   "source": [
    "## ft_idf: term frequency - inverse document frequency"
   ]
  },
  {
   "cell_type": "code",
   "execution_count": 16,
   "id": "ab836b4a",
   "metadata": {},
   "outputs": [],
   "source": [
    "idf = IDF(inputCol = \"c_vec\", outputCol = \"tf_idf\") # tf_idf = term frequency-inverse document frequency "
   ]
  },
  {
   "cell_type": "code",
   "execution_count": 17,
   "id": "131ced56",
   "metadata": {},
   "outputs": [],
   "source": [
    "ham_spam_to_numeric = StringIndexer(inputCol = \"class\", outputCol = \"label\")"
   ]
  },
  {
   "cell_type": "code",
   "execution_count": 18,
   "id": "b3055030",
   "metadata": {},
   "outputs": [],
   "source": [
    "from pyspark.ml.feature import VectorAssembler"
   ]
  },
  {
   "cell_type": "code",
   "execution_count": 19,
   "id": "120a49dc",
   "metadata": {},
   "outputs": [],
   "source": [
    "clean_up = VectorAssembler(inputCols = [\"tf_idf\", \"length\"], outputCol = \"features\")"
   ]
  },
  {
   "cell_type": "code",
   "execution_count": 20,
   "id": "55933656",
   "metadata": {},
   "outputs": [],
   "source": [
    "from pyspark.ml.classification import NaiveBayes"
   ]
  },
  {
   "cell_type": "code",
   "execution_count": 21,
   "id": "8dbef930",
   "metadata": {},
   "outputs": [],
   "source": [
    "nb = NaiveBayes()"
   ]
  },
  {
   "cell_type": "code",
   "execution_count": 22,
   "id": "93716698",
   "metadata": {},
   "outputs": [],
   "source": [
    "from pyspark.ml import Pipeline"
   ]
  },
  {
   "cell_type": "code",
   "execution_count": 23,
   "id": "3cf676a3",
   "metadata": {},
   "outputs": [],
   "source": [
    "data_prep_pipe = Pipeline(stages = [ham_spam_to_numeric, tokenizer, stop_remove, count_vec, idf, clean_up])"
   ]
  },
  {
   "cell_type": "code",
   "execution_count": 25,
   "id": "51cc1dc0",
   "metadata": {},
   "outputs": [
    {
     "name": "stderr",
     "output_type": "stream",
     "text": [
      "                                                                                \r"
     ]
    }
   ],
   "source": [
    "cleaner = data_prep_pipe.fit(data)"
   ]
  },
  {
   "cell_type": "code",
   "execution_count": 26,
   "id": "9fdf83aa",
   "metadata": {},
   "outputs": [],
   "source": [
    "clean_data = cleaner.transform(data)"
   ]
  },
  {
   "cell_type": "code",
   "execution_count": 27,
   "id": "9fad3188",
   "metadata": {},
   "outputs": [
    {
     "data": {
      "text/plain": [
       "['class',\n",
       " 'text',\n",
       " 'length',\n",
       " 'label',\n",
       " 'token_text',\n",
       " 'stop_token',\n",
       " 'c_vec',\n",
       " 'tf_idf',\n",
       " 'features']"
      ]
     },
     "execution_count": 27,
     "metadata": {},
     "output_type": "execute_result"
    }
   ],
   "source": [
    "clean_data.columns"
   ]
  },
  {
   "cell_type": "code",
   "execution_count": 28,
   "id": "07e8fc01",
   "metadata": {},
   "outputs": [],
   "source": [
    "clean_data = clean_data.select(\"label\", \"features\")"
   ]
  },
  {
   "cell_type": "code",
   "execution_count": 29,
   "id": "0e3f40fe",
   "metadata": {},
   "outputs": [
    {
     "name": "stdout",
     "output_type": "stream",
     "text": [
      "+-----+--------------------+\n",
      "|label|            features|\n",
      "+-----+--------------------+\n",
      "|  0.0|(13424,[7,11,31,6...|\n",
      "|  0.0|(13424,[0,24,297,...|\n",
      "|  1.0|(13424,[2,13,19,3...|\n",
      "|  0.0|(13424,[0,70,80,1...|\n",
      "|  0.0|(13424,[36,134,31...|\n",
      "|  1.0|(13424,[10,60,139...|\n",
      "|  0.0|(13424,[10,53,103...|\n",
      "|  0.0|(13424,[125,184,4...|\n",
      "|  1.0|(13424,[1,47,118,...|\n",
      "|  1.0|(13424,[0,1,13,27...|\n",
      "|  0.0|(13424,[18,43,120...|\n",
      "|  1.0|(13424,[8,17,37,8...|\n",
      "|  1.0|(13424,[13,30,47,...|\n",
      "|  0.0|(13424,[39,96,217...|\n",
      "|  0.0|(13424,[552,1697,...|\n",
      "|  1.0|(13424,[30,109,11...|\n",
      "|  0.0|(13424,[82,214,47...|\n",
      "|  0.0|(13424,[0,2,49,13...|\n",
      "|  0.0|(13424,[0,74,105,...|\n",
      "|  1.0|(13424,[4,30,33,5...|\n",
      "+-----+--------------------+\n",
      "only showing top 20 rows\n",
      "\n"
     ]
    }
   ],
   "source": [
    "clean_data.show()"
   ]
  },
  {
   "cell_type": "code",
   "execution_count": 30,
   "id": "1d06b75d",
   "metadata": {},
   "outputs": [],
   "source": [
    "training, test = clean_data.randomSplit([0.7, 0.3])"
   ]
  },
  {
   "cell_type": "code",
   "execution_count": 32,
   "id": "4635dba4",
   "metadata": {},
   "outputs": [
    {
     "name": "stderr",
     "output_type": "stream",
     "text": [
      "22/05/02 20:25:03 WARN DAGScheduler: Broadcasting large task binary with size 1142.7 KiB\n",
      "22/05/02 20:25:05 WARN DAGScheduler: Broadcasting large task binary with size 1126.2 KiB\n",
      "                                                                                \r"
     ]
    }
   ],
   "source": [
    "spam_detector = nb.fit(training)"
   ]
  },
  {
   "cell_type": "code",
   "execution_count": 33,
   "id": "81c5a45e",
   "metadata": {
    "scrolled": true
   },
   "outputs": [
    {
     "name": "stdout",
     "output_type": "stream",
     "text": [
      "root\n",
      " |-- class: string (nullable = true)\n",
      " |-- text: string (nullable = true)\n",
      " |-- length: integer (nullable = true)\n",
      "\n"
     ]
    }
   ],
   "source": [
    "data.printSchema()"
   ]
  },
  {
   "cell_type": "code",
   "execution_count": 34,
   "id": "1fb612cd",
   "metadata": {},
   "outputs": [],
   "source": [
    "test_results = spam_detector.transform(test)"
   ]
  },
  {
   "cell_type": "code",
   "execution_count": 35,
   "id": "bab17e1c",
   "metadata": {},
   "outputs": [
    {
     "name": "stderr",
     "output_type": "stream",
     "text": [
      "22/05/02 20:26:43 WARN DAGScheduler: Broadcasting large task binary with size 1360.1 KiB\n",
      "[Stage 20:>                                                         (0 + 1) / 1]\r"
     ]
    },
    {
     "name": "stdout",
     "output_type": "stream",
     "text": [
      "+-----+--------------------+--------------------+--------------------+----------+\n",
      "|label|            features|       rawPrediction|         probability|prediction|\n",
      "+-----+--------------------+--------------------+--------------------+----------+\n",
      "|  0.0|(13424,[0,1,2,7,8...|[-788.68382904527...|[1.0,6.5078524296...|       0.0|\n",
      "|  0.0|(13424,[0,1,2,41,...|[-1061.1394874915...|[1.0,4.7735032839...|       0.0|\n",
      "|  0.0|(13424,[0,1,5,15,...|[-1000.7034200312...|[1.0,7.7158888033...|       0.0|\n",
      "|  0.0|(13424,[0,1,5,20,...|[-816.96740002769...|[1.0,1.7709207031...|       0.0|\n",
      "|  0.0|(13424,[0,1,7,15,...|[-662.45344021506...|[1.0,3.5301881353...|       0.0|\n",
      "|  0.0|(13424,[0,1,9,14,...|[-541.63076972174...|[1.0,1.9847693190...|       0.0|\n",
      "|  0.0|(13424,[0,1,11,32...|[-871.55777104481...|[1.0,4.9713498422...|       0.0|\n",
      "|  0.0|(13424,[0,1,14,31...|[-217.28348422823...|[1.0,6.2012284569...|       0.0|\n",
      "|  0.0|(13424,[0,1,14,78...|[-686.08435008339...|[1.0,1.5036784480...|       0.0|\n",
      "|  0.0|(13424,[0,1,15,20...|[-668.42628453856...|[1.0,2.0915129078...|       0.0|\n",
      "|  0.0|(13424,[0,1,30,12...|[-602.04267554167...|[1.0,4.3686628908...|       0.0|\n",
      "|  0.0|(13424,[0,1,72,10...|[-698.45462075070...|[1.0,3.5407919620...|       0.0|\n",
      "|  0.0|(13424,[0,1,874,1...|[-97.991490928582...|[0.99999996936328...|       0.0|\n",
      "|  0.0|(13424,[0,1,3657,...|[-128.16270098256...|[0.99996703687042...|       0.0|\n",
      "|  0.0|(13424,[0,2,3,5,3...|[-489.37441807310...|[1.0,1.6688256337...|       0.0|\n",
      "|  0.0|(13424,[0,2,3,6,9...|[-3285.5002925676...|[1.0,5.5535079653...|       0.0|\n",
      "|  0.0|(13424,[0,2,4,5,7...|[-989.43519582416...|[1.0,8.2963757903...|       0.0|\n",
      "|  0.0|(13424,[0,2,4,5,1...|[-1604.4029846211...|[1.0,9.8977106442...|       0.0|\n",
      "|  0.0|(13424,[0,2,4,8,2...|[-1448.9949822490...|[1.0,2.5973197446...|       0.0|\n",
      "|  0.0|(13424,[0,2,4,11,...|[-1126.9976980486...|[1.0,3.5107278379...|       0.0|\n",
      "+-----+--------------------+--------------------+--------------------+----------+\n",
      "only showing top 20 rows\n",
      "\n"
     ]
    },
    {
     "name": "stderr",
     "output_type": "stream",
     "text": [
      "\r",
      "                                                                                \r"
     ]
    }
   ],
   "source": [
    "test_results.show()"
   ]
  },
  {
   "cell_type": "code",
   "execution_count": 36,
   "id": "372a0b11",
   "metadata": {},
   "outputs": [],
   "source": [
    "from pyspark.ml.evaluation import MulticlassClassificationEvaluator"
   ]
  },
  {
   "cell_type": "code",
   "execution_count": 37,
   "id": "a2868a64",
   "metadata": {},
   "outputs": [],
   "source": [
    "acc_eval = MulticlassClassificationEvaluator()"
   ]
  },
  {
   "cell_type": "code",
   "execution_count": 39,
   "id": "6f11858f",
   "metadata": {},
   "outputs": [
    {
     "name": "stderr",
     "output_type": "stream",
     "text": [
      "22/05/02 20:29:22 WARN DAGScheduler: Broadcasting large task binary with size 1365.2 KiB\n",
      "                                                                                \r"
     ]
    }
   ],
   "source": [
    "acc = acc_eval.evaluate(test_results)"
   ]
  },
  {
   "cell_type": "code",
   "execution_count": 42,
   "id": "502747e5",
   "metadata": {},
   "outputs": [
    {
     "name": "stdout",
     "output_type": "stream",
     "text": [
      "Accuracy of NaiveBayes Model\n",
      "0.9202912788619935\n"
     ]
    }
   ],
   "source": [
    "print(\"Accuracy of NaiveBayes Model\")\n",
    "print(acc)"
   ]
  },
  {
   "cell_type": "code",
   "execution_count": null,
   "id": "54dd8a46",
   "metadata": {},
   "outputs": [],
   "source": []
  }
 ],
 "metadata": {
  "kernelspec": {
   "display_name": "Python 3 (ipykernel)",
   "language": "python",
   "name": "python3"
  },
  "language_info": {
   "codemirror_mode": {
    "name": "ipython",
    "version": 3
   },
   "file_extension": ".py",
   "mimetype": "text/x-python",
   "name": "python",
   "nbconvert_exporter": "python",
   "pygments_lexer": "ipython3",
   "version": "3.8.10"
  }
 },
 "nbformat": 4,
 "nbformat_minor": 5
}
