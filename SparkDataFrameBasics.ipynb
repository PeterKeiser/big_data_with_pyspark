{
 "cells": [
  {
   "cell_type": "code",
   "execution_count": 2,
   "id": "2219b4e9",
   "metadata": {},
   "outputs": [
    {
     "name": "stdout",
     "output_type": "stream",
     "text": [
      "/home/ubuntu/pyspark\r\n"
     ]
    }
   ],
   "source": [
    "!pwd"
   ]
  },
  {
   "cell_type": "code",
   "execution_count": 3,
   "id": "b8da0270",
   "metadata": {},
   "outputs": [],
   "source": [
    "# !source /home/ubuntu/sparkenv/bin/activate"
   ]
  },
  {
   "cell_type": "code",
   "execution_count": 6,
   "id": "676a794c",
   "metadata": {
    "scrolled": true
   },
   "outputs": [
    {
     "name": "stdout",
     "output_type": "stream",
     "text": [
      "Collecting pyspark\n",
      "  Downloading pyspark-3.2.1.tar.gz (281.4 MB)\n",
      "\u001b[K     |████████████████████████████████| 281.4 MB 28.6 MB/s eta 0:00:01   |                                | 696 kB 14.1 MB/s eta 0:00:20     |▎                               | 2.8 MB 14.1 MB/s eta 0:00:20     |█▉                              | 15.9 MB 14.1 MB/s eta 0:00:19     |██▎                             | 20.3 MB 14.1 MB/s eta 0:00:19     |███▊                            | 33.1 MB 14.1 MB/s eta 0:00:18     |█████▊                          | 50.4 MB 41.3 MB/s eta 0:00:06     |██████▍                         | 56.6 MB 41.3 MB/s eta 0:00:06     |███████▍                        | 64.8 MB 41.3 MB/s eta 0:00:06     |█████████▏                      | 81.0 MB 39.8 MB/s eta 0:00:06     |██████████▍                     | 91.0 MB 39.8 MB/s eta 0:00:05     |██████████▉                     | 95.0 MB 39.8 MB/s eta 0:00:05     |█████████████                   | 114.9 MB 39.3 MB/s eta 0:00:05     |█████████████▎                  | 116.7 MB 39.3 MB/s eta 0:00:05     |██████████████▌                 | 127.4 MB 39.3 MB/s eta 0:00:04     |████████████████▍               | 144.1 MB 39.3 MB/s eta 0:00:04     |████████████████▉               | 147.6 MB 39.3 MB/s eta 0:00:04     |█████████████████▍              | 153.3 MB 48.4 MB/s eta 0:00:03     |██████████████████▋             | 163.7 MB 48.4 MB/s eta 0:00:03     |███████████████████             | 166.9 MB 48.4 MB/s eta 0:00:03     |███████████████████▊            | 173.0 MB 48.4 MB/s eta 0:00:03     |████████████████████            | 175.1 MB 48.4 MB/s eta 0:00:03     |█████████████████████▎          | 187.0 MB 50.6 MB/s eta 0:00:02     |██████████████████████          | 193.8 MB 50.6 MB/s eta 0:00:02     |██████████████████████▎         | 196.0 MB 50.6 MB/s eta 0:00:02     |██████████████████████▌         | 197.6 MB 50.6 MB/s eta 0:00:02     |██████████████████████▊         | 199.4 MB 50.6 MB/s eta 0:00:02     |███████████████████████         | 201.3 MB 50.6 MB/s eta 0:00:02     |█████████████████████████▎      | 222.2 MB 41.2 MB/s eta 0:00:02     |█████████████████████████▊      | 225.8 MB 41.2 MB/s eta 0:00:02     |██████████████████████████▉     | 236.2 MB 41.2 MB/s eta 0:00:02     |███████████████████████████▎    | 240.1 MB 41.2 MB/s eta 0:00:02     |███████████████████████████▉    | 245.1 MB 41.2 MB/s eta 0:00:01     |█████████████████████████████   | 254.7 MB 28.6 MB/s eta 0:00:01     |█████████████████████████████▏  | 256.8 MB 28.6 MB/s eta 0:00:01\n",
      "\u001b[?25hCollecting py4j==0.10.9.3\n",
      "  Downloading py4j-0.10.9.3-py2.py3-none-any.whl (198 kB)\n",
      "\u001b[K     |████████████████████████████████| 198 kB 35.8 MB/s eta 0:00:01\n",
      "\u001b[?25hBuilding wheels for collected packages: pyspark\n",
      "  Building wheel for pyspark (setup.py) ... \u001b[?25ldone\n",
      "\u001b[?25h  Created wheel for pyspark: filename=pyspark-3.2.1-py2.py3-none-any.whl size=281853642 sha256=4d9d7944c7a7ee8b97818852722b33940962cf76a2f98aa21376e4135f63e412\n",
      "  Stored in directory: /tmp/pip-ephem-wheel-cache-cyacemu8/wheels/58/94/83/915c9059e4b038e2d43a6058f307fe1c3e8536e5745f3b23b7\n",
      "Successfully built pyspark\n",
      "Installing collected packages: py4j, pyspark\n",
      "  Attempting uninstall: py4j\n",
      "    Found existing installation: py4j 0.10.9.5\n",
      "    Uninstalling py4j-0.10.9.5:\n",
      "      Successfully uninstalled py4j-0.10.9.5\n",
      "Successfully installed py4j-0.10.9.3 pyspark-3.2.1\n"
     ]
    }
   ],
   "source": [
    "# !pip3 install pyspark --no-cache-dir"
   ]
  },
  {
   "cell_type": "code",
   "execution_count": 7,
   "id": "aeefbccb",
   "metadata": {},
   "outputs": [],
   "source": [
    "from pyspark.sql import SparkSession"
   ]
  },
  {
   "cell_type": "code",
   "execution_count": 8,
   "id": "b102980e",
   "metadata": {},
   "outputs": [
    {
     "name": "stderr",
     "output_type": "stream",
     "text": [
      "WARNING: An illegal reflective access operation has occurred\n",
      "WARNING: Illegal reflective access by org.apache.spark.unsafe.Platform (file:/home/ubuntu/.local/lib/python3.8/site-packages/pyspark/jars/spark-unsafe_2.12-3.2.1.jar) to constructor java.nio.DirectByteBuffer(long,int)\n",
      "WARNING: Please consider reporting this to the maintainers of org.apache.spark.unsafe.Platform\n",
      "WARNING: Use --illegal-access=warn to enable warnings of further illegal reflective access operations\n",
      "WARNING: All illegal access operations will be denied in a future release\n",
      "Using Spark's default log4j profile: org/apache/spark/log4j-defaults.properties\n",
      "Setting default log level to \"WARN\".\n",
      "To adjust logging level use sc.setLogLevel(newLevel). For SparkR, use setLogLevel(newLevel).\n",
      "22/04/12 16:33:12 WARN NativeCodeLoader: Unable to load native-hadoop library for your platform... using builtin-java classes where applicable\n"
     ]
    }
   ],
   "source": [
    "spark = SparkSession.builder.appName(\"Basics\").getOrCreate()"
   ]
  },
  {
   "cell_type": "code",
   "execution_count": 9,
   "id": "a89a32ee",
   "metadata": {},
   "outputs": [
    {
     "name": "stderr",
     "output_type": "stream",
     "text": [
      "                                                                                \r"
     ]
    }
   ],
   "source": [
    "df = spark.read.json(\"people.json\")"
   ]
  },
  {
   "cell_type": "code",
   "execution_count": 10,
   "id": "c4aa1daf",
   "metadata": {},
   "outputs": [
    {
     "data": {
      "text/plain": [
       "DataFrame[age: bigint, name: string]"
      ]
     },
     "execution_count": 10,
     "metadata": {},
     "output_type": "execute_result"
    }
   ],
   "source": [
    "df"
   ]
  },
  {
   "cell_type": "code",
   "execution_count": 11,
   "id": "22162302",
   "metadata": {},
   "outputs": [
    {
     "name": "stdout",
     "output_type": "stream",
     "text": [
      "+----+-------+\n",
      "| age|   name|\n",
      "+----+-------+\n",
      "|null|Michael|\n",
      "|  30|   Andy|\n",
      "|  19| Justin|\n",
      "+----+-------+\n",
      "\n"
     ]
    }
   ],
   "source": [
    "df.show()"
   ]
  },
  {
   "cell_type": "code",
   "execution_count": null,
   "id": "8bc6b673",
   "metadata": {},
   "outputs": [],
   "source": []
  }
 ],
 "metadata": {
  "kernelspec": {
   "display_name": "Python 3 (ipykernel)",
   "language": "python",
   "name": "python3"
  },
  "language_info": {
   "codemirror_mode": {
    "name": "ipython",
    "version": 3
   },
   "file_extension": ".py",
   "mimetype": "text/x-python",
   "name": "python",
   "nbconvert_exporter": "python",
   "pygments_lexer": "ipython3",
   "version": "3.8.10"
  }
 },
 "nbformat": 4,
 "nbformat_minor": 5
}
